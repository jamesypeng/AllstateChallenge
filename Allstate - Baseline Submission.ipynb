{
 "cells": [
  {
   "cell_type": "markdown",
   "metadata": {
    "collapsed": true
   },
   "source": [
    "\n",
    "## Project:  Allstate Claims Severity\n",
    "#### Author:   Joshep Downs, James Peng, Megan Pera, Diana Rodenberger \n",
    "#### Purpose:  Predicting cost and severity of claims for AllState\n",
    "#### Created:  10/29/2016"
   ]
  },
  {
   "cell_type": "code",
   "execution_count": 10,
   "metadata": {
    "collapsed": false
   },
   "outputs": [],
   "source": [
    "import unittest\n",
    "\n",
    "# General libraries.\n",
    "import re, os, sys\n",
    "import numpy as np\n",
    "import pandas as pd\n",
    "import logging\n",
    "import matplotlib.pyplot as plt\n",
    "\n",
    "from sklearn.pipeline import Pipeline\n",
    "#from sklearn.feature_extraction import \n",
    "from sklearn import preprocessing\n",
    "\n",
    "from sklearn.utils import shuffle\n",
    "\n",
    "from sklearn.metrics import mean_absolute_error\n",
    "\n",
    "from sklearn import linear_model\n",
    "\n",
    "from sklearn.model_selection import cross_val_score\n",
    "from sklearn.model_selection import train_test_split"
   ]
  },
  {
   "cell_type": "code",
   "execution_count": 11,
   "metadata": {
    "collapsed": false
   },
   "outputs": [],
   "source": [
    "\n",
    "df_data = pd.read_csv('./data_in/train.csv')"
   ]
  },
  {
   "cell_type": "code",
   "execution_count": 12,
   "metadata": {
    "collapsed": false
   },
   "outputs": [],
   "source": [
    "df_data_encoded = df_data.copy()\n",
    "\n",
    "# encoding into the categorical value\n",
    "le = preprocessing.LabelEncoder()\n",
    "for c in df_data_encoded.columns:\n",
    "    if c.find('cat') >=0: # -1: substring not found, >=0, starting index\n",
    "        df_data_encoded[c] = le.fit_transform(df_data_encoded[c])\n",
    "\n",
    "np.random.seed(100)\n",
    "\n",
    "\n",
    "col = list(df_data_encoded.columns)\n",
    "col.remove('loss')\n",
    "col.remove('id')\n",
    "\n",
    "X = df_data_encoded[col]\n",
    "y = np.log10(df_data_encoded.loss)\n",
    "id = df_data_encoded.id\n",
    "\n",
    "X_train, X_dev, y_train, y_dev, id_train, id_dev = train_test_split( X, y, id, test_size=0.33, random_state=1)"
   ]
  },
  {
   "cell_type": "code",
   "execution_count": 13,
   "metadata": {
    "collapsed": false
   },
   "outputs": [
    {
     "name": "stdout",
     "output_type": "stream",
     "text": [
      "mean_absolute_error on training data: [-0.19872471 -0.19753498 -0.19821047]\n",
      "mean_absolute_error on test data 0.198086964004104\n",
      "end\n"
     ]
    }
   ],
   "source": [
    "#id_train, x_train,  y_train = shuffle( df_train.id, df_train[col] , df_train.loss, random_state=0)\n",
    "\n",
    "pd.options.mode.chained_assignment = None\n",
    "\n",
    "\n",
    "lr = linear_model.LinearRegression()\n",
    "\n",
    "# Train the model using the training sets\n",
    "lr.fit(X_train, y_train)\n",
    "\n",
    "y_pred = lr.predict(X_dev)\n",
    "\n",
    "s = cross_val_score(lr, X_train, y_train, scoring='neg_mean_absolute_error')\n",
    "\n",
    "print('mean_absolute_error on training data: {0}'.format(s))\n",
    "\n",
    "mae = mean_absolute_error(y_dev, y_pred)\n",
    "print('mean_absolute_error on test data {0}'.format(mae))\n",
    "\n",
    "print('end')\n",
    "#if __name__ == '__main__':\n",
    "    #unittest.main()\n"
   ]
  },
  {
   "cell_type": "code",
   "execution_count": 14,
   "metadata": {
    "collapsed": true
   },
   "outputs": [],
   "source": [
    "df_test = pd.read_csv('./data_in/test.csv')"
   ]
  },
  {
   "cell_type": "code",
   "execution_count": 15,
   "metadata": {
    "collapsed": true
   },
   "outputs": [],
   "source": [
    "df_test_encoded = df_test.copy()\n",
    "\n",
    "# encoding into the categorical value\n",
    "le = preprocessing.LabelEncoder()\n",
    "for c in df_test_encoded.columns:\n",
    "    if c.find('cat') >=0: # -1: substring not found, >=0, starting index\n",
    "        df_test_encoded[c] = le.fit_transform(df_test_encoded[c])\n",
    "\n",
    "np.random.seed(100)\n",
    "\n",
    "\n",
    "col = list(df_test_encoded.columns)\n",
    "col.remove('id')\n",
    "\n",
    "X_test = df_test_encoded[col]\n",
    "id_test = df_test_encoded.id"
   ]
  },
  {
   "cell_type": "code",
   "execution_count": 16,
   "metadata": {
    "collapsed": true
   },
   "outputs": [],
   "source": [
    "#id_train, x_train,  y_train = shuffle( df_train.id, df_train[col] , df_train.loss, random_state=0)\n",
    "\n",
    "pd.options.mode.chained_assignment = None\n",
    "\n",
    "#use same linear model previously fit with training data\n",
    "y_test_log_pred = lr.predict(X_test)\n",
    "\n",
    "# convert from log10 scale to linear scale \n",
    "y_test_pred = np.power(10, y_test_log_pred)\n",
    "\n",
    "y_test=id_test\n",
    "\n",
    "#to be finished"
   ]
  },
  {
   "cell_type": "code",
   "execution_count": 17,
   "metadata": {
    "collapsed": false
   },
   "outputs": [
    {
     "name": "stdout",
     "output_type": "stream",
     "text": [
      "[  1341.12316512   1579.25579434  11966.21844079 ...,   2181.34925227\n",
      "   1037.24660082   3224.25233546]\n"
     ]
    }
   ],
   "source": [
    "print(y_test_pred)"
   ]
  },
  {
   "cell_type": "code",
   "execution_count": null,
   "metadata": {
    "collapsed": true
   },
   "outputs": [],
   "source": []
  }
 ],
 "metadata": {
  "anaconda-cloud": {},
  "kernelspec": {
   "display_name": "Python [conda root]",
   "language": "python",
   "name": "conda-root-py"
  },
  "language_info": {
   "codemirror_mode": {
    "name": "ipython",
    "version": 3
   },
   "file_extension": ".py",
   "mimetype": "text/x-python",
   "name": "python",
   "nbconvert_exporter": "python",
   "pygments_lexer": "ipython3",
   "version": "3.5.2"
  }
 },
 "nbformat": 4,
 "nbformat_minor": 0
}
