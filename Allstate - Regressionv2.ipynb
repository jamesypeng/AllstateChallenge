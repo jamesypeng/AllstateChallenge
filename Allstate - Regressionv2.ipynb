{
 "cells": [
  {
   "cell_type": "markdown",
   "metadata": {
    "collapsed": true
   },
   "source": [
    "\n",
    "## Project:  Allstate Claims Severity\n",
    "#### Author:   Joshep Downs, James Peng, Megan Pera, Diana Rodenberger \n",
    "#### Purpose:  Evaluate multiple regression models to predict cost and severity of claims for AllState\n",
    "#### Created:  10/29/2016\n",
    "\n",
    "### Team name in Kaggle: UCB_207_1\n",
    "\n",
    "## Link to Leaderboard\n",
    "https://www.kaggle.com/c/allstate-claims-severity/leaderboard\n"
   ]
  },
  {
   "cell_type": "markdown",
   "metadata": {},
   "source": [
    "### Topics included\n",
    "\n",
    "#### 1) Preprocessing train set\n",
    "#### 2) Data Exploration of Continous Variables\n",
    "#### 3) Model 1: Linear Regression with dummy variables using RIDGE\n",
    "#### 4) Model 2: PCA and Regression\n",
    "#### 5) Model 3: Run regression models with Lasso\n",
    "#### 6) Model 4: Run regression models with ElasticNet\n",
    "#### 7) Model 5: Run regression models with DecisionTreeRegressor\n",
    "#### 8) Estimate best parameters for classifier\n",
    "\n",
    "\n"
   ]
  },
  {
   "cell_type": "code",
   "execution_count": 3,
   "metadata": {
    "collapsed": false
   },
   "outputs": [],
   "source": [
    "%matplotlib inline\n",
    "import unittest\n",
    "\n",
    "# General libraries.\n",
    "import re, os, sys\n",
    "import numpy as np\n",
    "import pandas as pd\n",
    "import logging\n",
    "import matplotlib.mlab as mlab\n",
    "import matplotlib.pyplot as plt\n",
    "\n",
    "from sklearn.pipeline import Pipeline\n",
    "#from sklearn.feature_extraction import \n",
    "from sklearn import preprocessing\n",
    "\n",
    "from sklearn.utils import shuffle\n",
    "\n",
    "from sklearn.metrics import mean_absolute_error\n",
    "\n",
    "from sklearn import linear_model\n",
    "\n",
    "from sklearn.model_selection import cross_val_score\n",
    "from sklearn.model_selection import train_test_split\n",
    "\n",
    "from sklearn.linear_model import LinearRegression\n",
    "\n",
    "# regularization methos\n",
    "from sklearn.linear_model import Ridge\n",
    "from sklearn.linear_model import Lasso\n",
    "from sklearn.linear_model import ElasticNet\n",
    "\n",
    "from sklearn.feature_extraction import DictVectorizer as DV\n",
    "\n",
    "from sklearn.ensemble import ExtraTreesRegressor\n",
    "from sklearn.ensemble import RandomForestRegressor\n",
    "\n",
    "from sklearn.model_selection import KFold\n",
    "\n",
    "import xgboost as xgb\n"
   ]
  },
  {
   "cell_type": "markdown",
   "metadata": {},
   "source": [
    "## Preprocessing train set\n",
    "\n",
    " 1) Extract data and load into dataframe\n",
    " \n",
    " 2) Create dummy variables for categorical variables\n",
    " \n",
    " 3) Transform the variable 'loss'\n",
    " \n",
    " 4) Create training datasets and development datasets."
   ]
  },
  {
   "cell_type": "code",
   "execution_count": 4,
   "metadata": {
    "collapsed": false
   },
   "outputs": [
    {
     "name": "stdout",
     "output_type": "stream",
     "text": [
      "./data_in/train.csv ./data_in/test.csv ./data_out/submission.csv\n"
     ]
    }
   ],
   "source": [
    "TARGET = 'loss'\n",
    "TARGET_LOG = 'log_loss'\n",
    "ID = 'id'\n",
    "\n",
    "DATA_IN_DIR = \"./data_in\"\n",
    "DATA_OUT_DIR = \"./data_out\"\n",
    "\n",
    "TRAIN_CSV = \"{0}/train.csv\".format(DATA_IN_DIR)\n",
    "TEST_CSV = \"{0}/test.csv\".format(DATA_IN_DIR)\n",
    "SUBMISSION_CSV = \"{0}/submission.csv\".format(DATA_OUT_DIR)\n",
    "\n",
    "print(TRAIN_CSV, TEST_CSV,SUBMISSION_CSV)"
   ]
  },
  {
   "cell_type": "code",
   "execution_count": 5,
   "metadata": {
    "collapsed": false
   },
   "outputs": [
    {
     "name": "stdout",
     "output_type": "stream",
     "text": [
      "(188318, 132)\n",
      "(125546, 131)\n"
     ]
    }
   ],
   "source": [
    "train_data = pd.read_csv(TRAIN_CSV)\n",
    "test_data = pd.read_csv(TEST_CSV)\n",
    "\n",
    "print(train_data.shape)\n",
    "print(test_data.shape)"
   ]
  },
  {
   "cell_type": "code",
   "execution_count": null,
   "metadata": {
    "collapsed": false
   },
   "outputs": [],
   "source": [
    "print(train_data.describe())\n",
    "#print(test_data.describe())\n",
    "\n",
    "train_data.describe()"
   ]
  },
  {
   "cell_type": "markdown",
   "metadata": {},
   "source": [
    "### Exploratory Data Analysis\n"
   ]
  },
  {
   "cell_type": "code",
   "execution_count": 6,
   "metadata": {
    "collapsed": false
   },
   "outputs": [
    {
     "data": {
      "image/png": "[encoded data removed]",
      "text/plain": [
       "<matplotlib.figure.Figure at 0x139a0dce10>"
      ]
     },
     "metadata": {},
     "output_type": "display_data"
    }
   ],
   "source": [
    "def plot_hist(y, title, x_label, y_label = 'Probability',  num_bins = 50 ):\n",
    "    \n",
    "\n",
    "    # the histogram of the data\n",
    "    n, bins, patches = plt.hist(y, num_bins, normed=True, facecolor='green', alpha=0.5)\n",
    "\n",
    "    plt.xlabel(x_label)\n",
    "    plt.ylabel(y_label)\n",
    "    plt.title(title)\n",
    "\n",
    "    # Tweak spacing to prevent clipping of ylabel\n",
    "    plt.subplots_adjust(left=0.15)\n",
    "    plt.show()\n",
    "    \n",
    "plot_hist(train_data[TARGET], title= TARGET + ' histogram', x_label = TARGET )"
   ]
  },
  {
   "cell_type": "code",
   "execution_count": 7,
   "metadata": {
    "collapsed": false
   },
   "outputs": [
    {
     "name": "stdout",
     "output_type": "stream",
     "text": [
      "Skewness 0.0966 Kurtosis -0.1415\n"
     ]
    },
    {
     "data": {
      "image/png": "[encoded data removed]",
      "text/plain": [
       "<matplotlib.figure.Figure at 0x1399f632b0>"
      ]
     },
     "metadata": {},
     "output_type": "display_data"
    }
   ],
   "source": [
    "\n",
    "train_data[TARGET_LOG] = np.log10(train_data[TARGET]+1)\n",
    "\n",
    "print(\"Skewness {0:.4f} Kurtosis {1:.4f}\".format(train_data[TARGET_LOG].skew(), train_data[TARGET_LOG].kurt()))\n",
    "\n",
    "plot_hist(train_data[TARGET_LOG], title= TARGET_LOG + ' histogram', x_label = TARGET_LOG )"
   ]
  },
  {
   "cell_type": "code",
   "execution_count": 9,
   "metadata": {
    "collapsed": false
   },
   "outputs": [
    {
     "name": "stdout",
     "output_type": "stream",
     "text": [
      "188318 125546\n"
     ]
    },
    {
     "data": {
      "text/plain": [
       "((126173, 130), (62145, 130), (126173,), (62145,))"
      ]
     },
     "execution_count": 9,
     "metadata": {},
     "output_type": "execute_result"
    }
   ],
   "source": [
    "test_data[TARGET] = 0\n",
    "test_data[TARGET_LOG] = np.log10(train_data[TARGET]+1)\n",
    "\n",
    "train_data['train'] = 1\n",
    "test_data['train'] = 0\n",
    "\n",
    "nrows_train = train_data.shape[0]\n",
    "nrows_test = test_data.shape[0]\n",
    "print(nrows_train,nrows_test )\n",
    "\n",
    "# conts = [x for x in train_data.columns if 'cont' in x]\n",
    "train_test = pd.concat((train_data, test_data), axis=0).reset_index(drop=True)\n",
    "\n",
    "features = train_test.columns\n",
    "cats = [feat for feat in features if 'cat' in feat]\n",
    "conts = [feat for feat in features if 'cont' in feat]\n",
    "\n",
    "for feat in cats:\n",
    "    train_test[feat] = pd.factorize(train_test[feat], sort=True)[0]\n",
    "    \n",
    "train_data2 = train_test[train_test.train == 1].copy()\n",
    "\n",
    "Y = train_data2[TARGET_LOG]\n",
    "X = train_data2[cats + conts]\n",
    "Id = train_data2[ID]\n",
    "\n",
    "#X = X.copy()\n",
    "# y = y.copy()\n",
    "\n",
    "X_train, X_dev, y_train, y_dev, id_train, id_dev = train_test_split( X, Y, Id, test_size=0.33, random_state=1)\n"
   ]
  },
  {
   "cell_type": "code",
   "execution_count": 10,
   "metadata": {
    "collapsed": false
   },
   "outputs": [
    {
     "data": {
      "text/plain": [
       "((313864, 134),\n",
       " (126173, 130),\n",
       " (62145, 130),\n",
       " (126173,),\n",
       " (62145,),\n",
       " (126173,),\n",
       " (62145,))"
      ]
     },
     "execution_count": 10,
     "metadata": {},
     "output_type": "execute_result"
    }
   ],
   "source": [
    "print('X_train shape: ',X_train.shape)\n",
    "print('y_train shape: ',y_train.shape)\n",
    "print('X_dev shape: ',X_dev.shape)\n",
    "print('y_dev shape: ',y_dev.shape)\n",
    "print('X_dev shape: ',X_dev.shape)\n",
    "print('y_dev shape: ',y_dev.shape"
   ]
  },
  {
   "cell_type": "code",
   "execution_count": null,
   "metadata": {
    "collapsed": false,
    "scrolled": false
   },
   "outputs": [],
   "source": [
    "X_train.head(), X_dev.head(), y_train.head(), y_dev.head(), id_train.head(), id_dev.head()"
   ]
  },
  {
   "cell_type": "code",
   "execution_count": null,
   "metadata": {
    "collapsed": false
   },
   "outputs": [],
   "source": [
    "train_test.head()"
   ]
  },
  {
   "cell_type": "code",
   "execution_count": 12,
   "metadata": {
    "collapsed": false
   },
   "outputs": [
    {
     "name": "stdout",
     "output_type": "stream",
     "text": [
      "XGBRegressor(base_score=0.5, colsample_bylevel=1, colsample_bytree=0.4,\n",
      "       gamma=0, learning_rate=0.1, max_delta_step=0, max_depth=6,\n",
      "       min_child_weight=3, missing=None, n_estimators=500, nthread=-1,\n",
      "       objective='reg:linear', reg_alpha=0, reg_lambda=1,\n",
      "       scale_pos_weight=1, seed=7, silent=True, subsample=0.8)\n",
      "0.300889117503\n",
      "0.561140184073\n"
     ]
    }
   ],
   "source": [
    "# fitting model on training data\n",
    "model = xgb.XGBRegressor(max_depth=6, n_estimators=500, learning_rate=0.1, subsample=0.8, colsample_bytree=0.4,\n",
    "                     min_child_weight = 3,  seed=7)\n",
    "model.fit(X_train, y_train)\n",
    "print(model)\n",
    "#Making predictions\n",
    "y_pred = model.predict(X_dev) \n",
    "predictions = [round(value) for value in y_pred]\n",
    "# evaluat predictions \n",
    "actuals = y_dev\n",
    "print(mean_absolute_error(actuals, predictions))\n",
    "print(model.score(X_dev, y_dev)) "
   ]
  },
  {
   "cell_type": "code",
   "execution_count": null,
   "metadata": {
    "collapsed": false
   },
   "outputs": [],
   "source": [
    "#split data frame into categorical variables, continous variables (including all 'contx' variables and 'loss') and ids\n",
    "\n",
    "        \n",
    "\n",
    "cat_cols=[]\n",
    "cont_cols=[]\n",
    "for c in df_data.columns:\n",
    "    if c.find('cat') >=0: # -1: substring not found, >=0, starting index\n",
    "        cat_cols.append(c)\n",
    "    elif c.find('cont')>=0:\n",
    "        cont_cols.append(c)\n",
    "\n",
    "df_cont_vars = df_data[cont_cols]\n",
    "        \n",
    "#convert categorical variables into dummy variables\n",
    "df_dummy_vars=pd.get_dummies(df_data[cat_cols])\n",
    "\n",
    "#create dataset with predictors\n",
    "X = pd.concat([df_dummy_vars, df_cont_vars], axis=1)\n",
    "#create dataset with dependent variable\n",
    "y = np.log10(df_data.loss)\n",
    "#create additioanl dataset with claim ids\n",
    "id = df_data.id\n",
    "\n",
    "\n",
    "X_train, X_dev, y_train, y_dev, id_train, id_dev = train_test_split( X, y, id, test_size=0.33, random_state=1)"
   ]
  },
  {
   "cell_type": "code",
   "execution_count": null,
   "metadata": {
    "collapsed": false
   },
   "outputs": [],
   "source": [
    "print('X_train shape: ',X_train.shape)\n",
    "print('y_train shape: ',y_train.shape)\n",
    "print('X_dev shape: ',X_dev.shape)\n",
    "print('y_dev shape: ',y_dev.shape)\n"
   ]
  },
  {
   "cell_type": "code",
   "execution_count": null,
   "metadata": {
    "collapsed": false
   },
   "outputs": [],
   "source": [
    "X_train.head(5)"
   ]
  },
  {
   "cell_type": "markdown",
   "metadata": {
    "collapsed": false
   },
   "source": [
    "### Data Exploration of Continous Variables\n",
    "\n",
    "More work needs to be done in this section\n",
    "\n",
    "1) Check the distribution.\n",
    "\n",
    "2) Check for correlation."
   ]
  },
  {
   "cell_type": "code",
   "execution_count": null,
   "metadata": {
    "collapsed": false
   },
   "outputs": [],
   "source": [
    "#function to plot histograms of continous variables\n",
    "def PlotHisContinousVars(df):\n",
    "\n",
    "    plt.subplots(5,3, figsize=(10,15))\n",
    "    jj = 0\n",
    "    for column_name in df.columns:\n",
    "        jj+=1\n",
    "        plt.subplot(5,3,jj).hist(df[column_name],normed=True, bins=60)\n",
    "        plt.subplot(5,3,jj).set(title=column_name)\n",
    "    plt.show()\n",
    " \n",
    "\n",
    "PlotHisContinousVars(df_cont_vars)\n"
   ]
  },
  {
   "cell_type": "markdown",
   "metadata": {},
   "source": [
    "Plot dependent variable"
   ]
  },
  {
   "cell_type": "code",
   "execution_count": null,
   "metadata": {
    "collapsed": false
   },
   "outputs": [],
   "source": [
    "plt.cla()\n",
    "plt.subplot(1,1,1).hist(y_train,normed=True, bins=60)\n",
    "plt.subplot(1,1,1).set(title='loss')\n",
    "plt.show()"
   ]
  },
  {
   "cell_type": "markdown",
   "metadata": {},
   "source": [
    "#### TODO: more data exploration of continous variables"
   ]
  },
  {
   "cell_type": "markdown",
   "metadata": {},
   "source": [
    "### Model 1: Linear Regression with dummy variables using RIDGE\n",
    "\n",
    "We will try 3 different values of alpha\n",
    "\n",
    "TODO: Find optimal values of alpha and other hyper-parameters"
   ]
  },
  {
   "cell_type": "code",
   "execution_count": null,
   "metadata": {
    "collapsed": true
   },
   "outputs": [],
   "source": [
    "### function to define Mean Absolute Error\n",
    "\n",
    "def EstimateMEARidge(alpha, X_train,y_train,X_test, y_test):\n",
    "    \n",
    "    lr = linear_model.Ridge(alpha=alpha, normalize=True)\n",
    "\n",
    "    # Train the model using the training sets\n",
    "    lr.fit(X_train, y_train)\n",
    "\n",
    "    # predict dev set\n",
    "    preds = lr.predict(X_test)\n",
    "   \n",
    "    s = cross_val_score(lr, X_train, y_train, scoring='neg_mean_absolute_error')\n",
    "    \n",
    "    print ('Regression - Ridge with alpha: ', alpha)\n",
    "\n",
    "    print('mean_absolute_error on training data: {0}'.format(s))\n",
    "\n",
    "    mae = mean_absolute_error(y_test, preds)\n",
    "    print('mean_absolute_error on dev data {0}'.format(mae))\n",
    "    "
   ]
  },
  {
   "cell_type": "markdown",
   "metadata": {},
   "source": [
    "#### alpha =0.00001"
   ]
  },
  {
   "cell_type": "code",
   "execution_count": null,
   "metadata": {
    "collapsed": false
   },
   "outputs": [],
   "source": [
    "pd.options.mode.chained_assignment = None\n",
    "\n",
    "EstimateMEARidge(alpha=0.00001,X_train=X_train,y_train=y_train,X_test=X_dev, y_test=y_dev)"
   ]
  },
  {
   "cell_type": "markdown",
   "metadata": {},
   "source": [
    "#### alpha =0.001"
   ]
  },
  {
   "cell_type": "code",
   "execution_count": null,
   "metadata": {
    "collapsed": false
   },
   "outputs": [],
   "source": [
    "pd.options.mode.chained_assignment = None\n",
    "\n",
    "EstimateMEARidge(alpha=0.001,X_train=X_train,y_train=y_train,X_test=X_dev, y_test=y_dev)"
   ]
  },
  {
   "cell_type": "markdown",
   "metadata": {},
   "source": [
    "#### alpha =0.1"
   ]
  },
  {
   "cell_type": "code",
   "execution_count": null,
   "metadata": {
    "collapsed": false
   },
   "outputs": [],
   "source": [
    "pd.options.mode.chained_assignment = None\n",
    "\n",
    "\n",
    "EstimateMEARidge(alpha=0.1,X_train=X_train,y_train=y_train,X_test=X_dev, y_test=y_dev)"
   ]
  },
  {
   "cell_type": "markdown",
   "metadata": {},
   "source": [
    "The following are the baseline scores submitted for the competition\n",
    "\n",
    "mean_absolute_error on training data: [-0.19872471 -0.19753498 -0.19821047]\n",
    "\n",
    "mean_absolute_error on test data 0.198086964004104\n"
   ]
  },
  {
   "cell_type": "markdown",
   "metadata": {
    "collapsed": true
   },
   "source": [
    "### Model 2: PCA and Regression\n",
    "\n",
    "Create a model for regression that uses PCA components for dummy variables + continous variables. Here are the steps to run this model:\n",
    "\n",
    "1) Create a dataset with PCA components of dummy variables. \n",
    "\n",
    "2) Create a dataset with just continous variables. \n",
    "\n",
    "3) Create a combined dataset using datasets from step 1 and 2.\n",
    "\n",
    "4) Do steps 1-3 for training data and dev data.\n",
    "\n",
    "5) Run regression."
   ]
  },
  {
   "cell_type": "markdown",
   "metadata": {},
   "source": [
    "### Pre-processing: Find the number of components that explains most of the variance."
   ]
  },
  {
   "cell_type": "code",
   "execution_count": null,
   "metadata": {
    "collapsed": false
   },
   "outputs": [],
   "source": [
    "\n",
    "from sklearn.decomposition import PCA\n",
    "def P1():\n",
    "\n",
    "    pca = PCA(n_components=200)\n",
    "    pca.fit(X_train)\n",
    "    cum_vars=[]\n",
    "    components=[]\n",
    "    cumulative_var=0\n",
    "    for ii in range(len(pca.explained_variance_ratio_)):\n",
    "        cumulative_var+=pca.explained_variance_ratio_[ii]\n",
    "        cum_vars.append(cumulative_var)\n",
    "        components.append(ii+1)\n",
    "        \n",
    "    plt.plot(components, cum_vars)\n",
    "    #plt.title('Total variance explained by first K components')\n",
    "    plt.show()\n",
    "    return cum_vars\n",
    "\n",
    "cum_vars=P1()\n",
    "\n"
   ]
  },
  {
   "cell_type": "code",
   "execution_count": null,
   "metadata": {
    "collapsed": false
   },
   "outputs": [],
   "source": [
    "print('Total variance explained by first PCA component: %0.6f \\n' % cum_vars[0])\n",
    "print('Total variance explained by 8 PCA components: %0.6f \\n' % cum_vars[8])\n",
    "print('Total variance explained by 50 PCA components: %0.6f \\n' % cum_vars[49])\n",
    "print('Total variance explained by 100 PCA components: %0.6f \\n' % cum_vars[99])\n",
    "print('Total variance explained by 200 PCA components: %0.6f \\n' % cum_vars[199])"
   ]
  },
  {
   "cell_type": "markdown",
   "metadata": {},
   "source": [
    "##### Since most of the variance is explained by one component, let's run PCA with two components"
   ]
  },
  {
   "cell_type": "code",
   "execution_count": null,
   "metadata": {
    "collapsed": false
   },
   "outputs": [],
   "source": [
    "\n",
    "#identify continous and dummy variables\n",
    "cols_dummy_vars = list(df_dummy_vars.columns)\n",
    "cols_cont_vars = list(df_cont_vars.columns)\n",
    "\n",
    "#create a dataset with dummy variables for training data\n",
    "df_train_dummy_vars=X_train[cols_dummy_vars]\n",
    "\n",
    "#create a dataset with continous variables for training data\n",
    "df_train_cont_vars=X_train[cols_cont_vars]\n",
    "\n",
    "#create two datasets with continous and dummy variables for dev data\n",
    "df_dev_cont_vars=X_dev[cols_cont_vars]\n",
    "df_dev_dummy_vars=X_dev[cols_dummy_vars]\n",
    "\n",
    "\n",
    "#Run PCA with two components\n",
    "pca = PCA(n_components=200)\n",
    "train_data_pca = pca.fit_transform(df_train_dummy_vars)\n",
    "dev_data_pca = pca.transform(df_dev_dummy_vars)\n",
    "\n",
    "#create dataframes with pca components\n",
    "df_train_data_pca = pd.DataFrame({'comp1':train_data_pca[:,0],'comp2':train_data_pca[:,1]}, index=list(id_train.index))\n",
    "df_dev_data_pca = pd.DataFrame({'comp1':dev_data_pca[:,0],'comp2':dev_data_pca[:,1]}, index=list(id_dev.index))\n"
   ]
  },
  {
   "cell_type": "code",
   "execution_count": null,
   "metadata": {
    "collapsed": false
   },
   "outputs": [],
   "source": [
    "train_data_pca.shape[1]"
   ]
  },
  {
   "cell_type": "code",
   "execution_count": null,
   "metadata": {
    "collapsed": false
   },
   "outputs": [],
   "source": [
    "#create dataframes with pca components\n",
    "dic_train_pca ={}\n",
    "ii=0\n",
    "for ii in range(train_data_pca.shape[1]):\n",
    "    dic_train_pca['comp'+ str(ii+1)]=train_data_pca[:,ii]\n",
    "   "
   ]
  },
  {
   "cell_type": "code",
   "execution_count": null,
   "metadata": {
    "collapsed": true
   },
   "outputs": [],
   "source": [
    "df_train_data_pca = pd.DataFrame(dic_train_pca, index=list(id_train.index))"
   ]
  },
  {
   "cell_type": "markdown",
   "metadata": {},
   "source": [
    "##### Create a new training set and dev set with pca components (for dummy variables) and continous variables"
   ]
  },
  {
   "cell_type": "code",
   "execution_count": null,
   "metadata": {
    "collapsed": true
   },
   "outputs": [],
   "source": [
    "X_train_pca = pd.concat([df_train_data_pca, df_train_cont_vars], axis=1)"
   ]
  },
  {
   "cell_type": "code",
   "execution_count": null,
   "metadata": {
    "collapsed": true
   },
   "outputs": [],
   "source": [
    "X_dev_pca = pd.concat([df_dev_data_pca, df_dev_cont_vars], axis=1)"
   ]
  },
  {
   "cell_type": "code",
   "execution_count": null,
   "metadata": {
    "collapsed": false
   },
   "outputs": [],
   "source": [
    "#checks\n",
    "\n",
    "print(X_train.shape)\n",
    "print(df_train_cont_vars.shape)\n",
    "print(df_train_dummy_vars.shape)\n",
    "\n",
    "print(df_train_data_pca.shape)\n",
    "print(X_train_pca.shape)"
   ]
  },
  {
   "cell_type": "markdown",
   "metadata": {},
   "source": [
    "### Run regression models with 50 PCA components"
   ]
  },
  {
   "cell_type": "code",
   "execution_count": null,
   "metadata": {
    "collapsed": false
   },
   "outputs": [],
   "source": [
    "EstimateMEARidge(alpha=0.00001,X_train=X_train_pca,y_train=y_train,X_test=X_dev_pca, y_test=y_dev)"
   ]
  },
  {
   "cell_type": "code",
   "execution_count": null,
   "metadata": {
    "collapsed": false
   },
   "outputs": [],
   "source": [
    "EstimateMEARidge(alpha=0.1,X_train=X_train_pca,y_train=y_train,X_test=X_dev_pca, y_test=y_dev)"
   ]
  },
  {
   "cell_type": "markdown",
   "metadata": {},
   "source": [
    "### Model 3: Run regression models with Lasso"
   ]
  },
  {
   "cell_type": "code",
   "execution_count": null,
   "metadata": {
    "collapsed": true
   },
   "outputs": [],
   "source": [
    "def EstimateMEALasso(alpha, X_train,y_train,X_test, y_test):\n",
    "    \n",
    "    lr = linear_model.Lasso(alpha=alpha, normalize=True)\n",
    "\n",
    "    # Train the model using the training sets\n",
    "    lr.fit(X_train, y_train)\n",
    "\n",
    "    # predict dev set\n",
    "    preds = lr.predict(X_test)\n",
    "   \n",
    "    s = cross_val_score(lr, X_train, y_train, scoring='neg_mean_absolute_error')\n",
    "    \n",
    "    print ('Regression - Lasso with alpha: ', alpha)\n",
    "\n",
    "    print('mean_absolute_error on training data: {0}'.format(s))\n",
    "\n",
    "    mae = mean_absolute_error(y_test, preds)\n",
    "    print('mean_absolute_error on dev data {0}'.format(mae))"
   ]
  },
  {
   "cell_type": "code",
   "execution_count": null,
   "metadata": {
    "collapsed": false
   },
   "outputs": [],
   "source": [
    "EstimateMEALasso(alpha=0.1,X_train=X_train,y_train=y_train,X_test=X_dev, y_test=y_dev)"
   ]
  },
  {
   "cell_type": "markdown",
   "metadata": {},
   "source": [
    "### Model 4: Run regression models with ElasticNet"
   ]
  },
  {
   "cell_type": "code",
   "execution_count": null,
   "metadata": {
    "collapsed": true
   },
   "outputs": [],
   "source": [
    "def EstimateMEAElasticNet(alpha, l1ratio, X_train,y_train,X_test, y_test):\n",
    "    \n",
    "    lr = linear_model.ElasticNet(alpha=alpha, l1_ratio =l1ratio, normalize=True)\n",
    "\n",
    "    # Train the model using the training sets\n",
    "    lr.fit(X_train, y_train)\n",
    "\n",
    "    # predict dev set\n",
    "    preds = lr.predict(X_test)\n",
    "   \n",
    "    s = cross_val_score(lr, X_train, y_train, scoring='neg_mean_absolute_error')\n",
    "    \n",
    "    print ('Regression - MultiTaskElasticNet with alpha: ', alpha)\n",
    "\n",
    "    print('mean_absolute_error on training data: {0}'.format(s))\n",
    "\n",
    "    mae = mean_absolute_error(y_test, preds)\n",
    "    print('mean_absolute_error on dev data {0}'.format(mae))"
   ]
  },
  {
   "cell_type": "code",
   "execution_count": null,
   "metadata": {
    "collapsed": false
   },
   "outputs": [],
   "source": [
    "EstimateMEAElasticNet(alpha=0.1,l1ratio=.5, X_train=X_train,y_train=y_train,X_test=X_dev, y_test=y_dev)"
   ]
  },
  {
   "cell_type": "markdown",
   "metadata": {},
   "source": [
    "### Model 5: Run regression models with DecisionTreeRegressor"
   ]
  },
  {
   "cell_type": "code",
   "execution_count": null,
   "metadata": {
    "collapsed": true
   },
   "outputs": [],
   "source": [
    "def EstimateMEADecisionTreeRegressor(max_depth, X_train,y_train,X_test, y_test):\n",
    "    \n",
    "    regr = DecisionTreeRegressor(max_depth=max_depth)\n",
    "\n",
    "    regr.fit(X_train, y_train)\n",
    "    preds = regr.predict(X_dev)\n",
    "   \n",
    "    s = cross_val_score(regr, X_train, y_train, scoring='neg_mean_absolute_error')\n",
    "    \n",
    "    print ('Regression - DecisionTreeRegressor with max_depth: ', max_depth)\n",
    "\n",
    "    print('mean_absolute_error on training data: {0}'.format(s))\n",
    "\n",
    "    mae = mean_absolute_error(y_test, preds)\n",
    "    print('mean_absolute_error on dev data {0}'.format(mae))"
   ]
  },
  {
   "cell_type": "code",
   "execution_count": null,
   "metadata": {
    "collapsed": false
   },
   "outputs": [],
   "source": [
    "EstimateMEADecisionTreeRegressor(max_depth=5, X_train=X_train,y_train=y_train,X_test=X_dev, y_test=y_dev)"
   ]
  },
  {
   "cell_type": "code",
   "execution_count": null,
   "metadata": {
    "collapsed": false
   },
   "outputs": [],
   "source": [
    "EstimateMEADecisionTreeRegressor(max_depth=15, X_train=X_train,y_train=y_train,X_test=X_dev, y_test=y_dev)"
   ]
  },
  {
   "cell_type": "markdown",
   "metadata": {},
   "source": [
    "### Estimate best parameters for classifier"
   ]
  },
  {
   "cell_type": "markdown",
   "metadata": {},
   "source": [
    "The call to this function takes a long time. Need to check what is wrong. For now, I am leaving it documented"
   ]
  },
  {
   "cell_type": "code",
   "execution_count": null,
   "metadata": {
    "collapsed": false
   },
   "outputs": [],
   "source": [
    "from sklearn.grid_search import GridSearchCV\n",
    "\n",
    "def EvaluateHyperParams(cls, params, X_data, y_data):\n",
    "    \n",
    "    pipeline = Pipeline([\n",
    "     ('clf', cls),\n",
    "    ])\n",
    "\n",
    "    \n",
    "    \n",
    "    grid_search = GridSearchCV(pipeline, params)\n",
    "    grid_search.fit(X_data, y_data)\n",
    "    \n",
    "    print(\"Best score: %0.3f\" % grid_search.best_score_)\n",
    "    print(\"Best parameters set:\")\n",
    "    best_parameters = grid_search.best_estimator_.get_params()\n",
    "    for param_name in sorted(parameters.keys()):\n",
    "        print(\"\\t%s: %r\" % (param_name, best_parameters[param_name]))\n",
    "    return best_parameters"
   ]
  },
  {
   "cell_type": "code",
   "execution_count": null,
   "metadata": {
    "collapsed": true
   },
   "outputs": [],
   "source": [
    "parameters = {\n",
    "    'clf__alpha': (0.00001, .001),\n",
    "    }\n",
    "#best_parameters=EvaluateHyperParams(cls=linear_model.Lasso(),params=parameters,X_data=X_train, y_data=y_train)"
   ]
  },
  {
   "cell_type": "markdown",
   "metadata": {},
   "source": [
    "### Predict the Test Dataset"
   ]
  },
  {
   "cell_type": "markdown",
   "metadata": {},
   "source": [
    " 1) Extract data and load into dataframe\n",
    " \n",
    " 2) Create dummy variables for categorical variables\n",
    " \n",
    " 3) Predict loss based on 'best' model previously found : Ridge with alpha= 0.00001\n"
   ]
  },
  {
   "cell_type": "code",
   "execution_count": null,
   "metadata": {
    "collapsed": false
   },
   "outputs": [],
   "source": [
    "df_test = pd.read_csv('./data_in/test.csv')"
   ]
  },
  {
   "cell_type": "code",
   "execution_count": null,
   "metadata": {
    "collapsed": true
   },
   "outputs": [],
   "source": [
    "test_cat_cols=[]\n",
    "test_cont_cols=[]\n",
    "for c in df_test.columns:\n",
    "    if c.find('cat') >=0: # -1: substring not found, >=0, starting index\n",
    "        test_cat_cols.append(c)\n",
    "    elif c.find('cont')>=0:\n",
    "        test_cont_cols.append(c)\n",
    "\n",
    "test_df_cont_vars = df_test[test_cont_cols]\n",
    "        \n",
    "#convert categorical variables into dummy variables\n",
    "test_df_dummy_vars=pd.get_dummies(df_test[test_cat_cols])\n",
    "\n",
    "#create dataset with predictors\n",
    "X_test = pd.concat([test_df_dummy_vars, test_df_cont_vars], axis=1)\n",
    "id_test = df_test.id\n"
   ]
  },
  {
   "cell_type": "code",
   "execution_count": null,
   "metadata": {
    "collapsed": false
   },
   "outputs": [],
   "source": [
    "\n",
    "print('num columns in test: ', X_test.shape[1])\n",
    "print('num columns in train: ', X_train.shape[1])"
   ]
  },
  {
   "cell_type": "markdown",
   "metadata": {},
   "source": [
    "## Important note:\n",
    "\n",
    "When transforming categorical variables into dummy variables, we get a different set of variables for the training data and the test data. The train data and the test data have different categories for some categorical variables; thus, when we tranform categorical variables to dummy variables then a different set of dummy variables for the train and test data. \n",
    "\n",
    "See file 'Allstate - Create train and test datasets with dummy vars' to fix this problem\n"
   ]
  },
  {
   "cell_type": "code",
   "execution_count": null,
   "metadata": {
    "collapsed": true
   },
   "outputs": [],
   "source": []
  }
 ],
 "metadata": {
  "anaconda-cloud": {},
  "kernelspec": {
   "display_name": "Python [conda root]",
   "language": "python",
   "name": "conda-root-py"
  },
  "language_info": {
   "codemirror_mode": {
    "name": "ipython",
    "version": 3
   },
   "file_extension": ".py",
   "mimetype": "text/x-python",
   "name": "python",
   "nbconvert_exporter": "python",
   "pygments_lexer": "ipython3",
   "version": "3.5.2"
  }
 },
 "nbformat": 4,
 "nbformat_minor": 0
}
